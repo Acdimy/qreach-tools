{
 "cells": [
  {
   "cell_type": "code",
   "execution_count": 1,
   "id": "b3b82524",
   "metadata": {},
   "outputs": [
    {
     "name": "stdout",
     "output_type": "stream",
     "text": [
      "Location 17: upperBound support = \n",
      "Support vectors:\n",
      "Identity operator.\n",
      "Location 17: lowerBound support = \n",
      "Support vectors:\n",
      "(0.25,0)|00000000> + (0.25,0)|00011000> + (-0.25,0)|00101000> + (0.25,0)|00110000> + (-0.25,0)|01001000> + (-0.25,0)|01010000> + (0.25,0)|01100000> + (-0.25,0)|01111000> + (0.25,0)|10001000> + (-0.25,0)|10010000> + (-0.25,0)|10100000> + (-0.25,0)|10111000> + (0.25,0)|11000000> + (-0.25,0)|11011000> + (-0.25,0)|11101000> + (-0.25,0)|11110000>\n",
      "Location 24: upperBound support = \n",
      "Support vectors:\n",
      "Identity operator.\n",
      "Location 24: lowerBound support = \n",
      "Support vectors:\n",
      "(0.25,0)|00000000> + (0.25,0)|00011000> + (-0.25,0)|00101000> + (0.25,0)|00110000> + (-0.25,0)|01001000> + (-0.25,0)|01010000> + (0.25,0)|01100000> + (-0.25,0)|01111000> + (0.25,0)|10001000> + (-0.25,0)|10010000> + (-0.25,0)|10100000> + (-0.25,0)|10111000> + (0.25,0)|11000000> + (-0.25,0)|11011000> + (-0.25,0)|11101000> + (-0.25,0)|11110000>\n"
     ]
    }
   ],
   "source": [
    "import pyqreach\n",
    "### Verifiable quantum secret sharing\n",
    "from qiskit import QuantumCircuit, QuantumRegister, ClassicalRegister, transpile\n",
    "from qiskit.quantum_info import Statevector\n",
    "# from qiskit_aer import AerSimulator\n",
    "import numpy as np\n",
    "\n",
    "from parse_qiskit import *\n",
    "\n",
    "circ = QuantumCircuit(6, 6)\n",
    "idx0 = list(range(5))\n",
    "\n",
    "prepare_5perfect_code(circ, idx0)\n",
    "gateLength = len(circ.data)\n",
    "circ.cx(0,5)\n",
    "circ.h(5)\n",
    "circ.cx(5,1)\n",
    "circ.cx(5,2)\n",
    "circ.h(5)\n",
    "circ.cx(3,5)\n",
    "\n",
    "ts = parse_qiskit(circ)\n",
    "measList = applyFinalMeasurement(ts, 'Z', [5], 6)\n",
    "# measList = applyFinalMeasurement(ts, 'ZXXZI', [0,1,2,3,4], 5)\n",
    "\n",
    "op00 = pyqreach.QOperation([\"000000\"])\n",
    "ts.setAnnotation([[0, op00]])\n",
    "ts.computingFixedPointPost()\n",
    "ts.printSupp(gateLength)\n",
    "ts.printSupp(measList[0])"
   ]
  },
  {
   "cell_type": "code",
   "execution_count": 1,
   "id": "d46a24a3",
   "metadata": {},
   "outputs": [
    {
     "name": "stdout",
     "output_type": "stream",
     "text": [
      "Location 17: upperBound support = \n",
      "Support vectors:\n",
      "Identity operator.\n",
      "Location 17: lowerBound support = \n",
      "Support vectors:\n",
      "(0.25,0)|00000000> + (0.25,0)|00011000> + (-0.25,0)|00101000> + (0.25,0)|00110000> + (-0.25,0)|01001000> + (-0.25,0)|01010000> + (0.25,0)|01100000> + (-0.25,0)|01111000> + (0.25,0)|10001000> + (-0.25,0)|10010000> + (-0.25,0)|10100000> + (-0.25,0)|10111000> + (0.25,0)|11000000> + (-0.25,0)|11011000> + (-0.25,0)|11101000> + (-0.25,0)|11110000>\n",
      "Location 55: upperBound support = \n",
      "Support vectors:\n",
      "Identity operator.\n",
      "Location 55: lowerBound support = \n",
      "Support vectors:\n",
      "(0.125,0)|00000000> + (-0.125,0)|00001000> + (0.125,0)|00100000> + (-0.125,0)|00101000> + (0.125,0)|01000000> + (-0.125,0)|01001000> + (0.125,0)|01100000> + (-0.125,0)|01101000>\n"
     ]
    }
   ],
   "source": [
    "import pyqreach\n",
    "### Verifiable quantum secret sharing\n",
    "from qiskit import QuantumCircuit, QuantumRegister, ClassicalRegister, transpile\n",
    "from qiskit.quantum_info import Statevector\n",
    "# from qiskit_aer import AerSimulator\n",
    "import numpy as np\n",
    "\n",
    "from parse_qiskit import *\n",
    "\n",
    "circ = QuantumCircuit(5, 5)\n",
    "idx0 = list(range(5))\n",
    "\n",
    "prepare_5perfect_code(circ, idx0)\n",
    "gateLength = len(circ.data)\n",
    "\n",
    "ts = parse_qiskit(circ)\n",
    "measList = applyFinalMeasurement(ts, 'ZXXZI', [0,1,2,3,4], 5)\n",
    "# measList = applyFinalMeasurement(ts, 'ZXXZI', [0,1,2,3,4], 5)\n",
    "oph1 = pyqreach.QOperation(\"H\", 5, [1], [])\n",
    "oph2 = pyqreach.QOperation(\"H\", 5, [2], [])\n",
    "newMeasList = []\n",
    "for measLoc in measList:\n",
    "    ts.addLocation(pyqreach.Location(5, 0))\n",
    "    ts.addRelation(measLoc, ts.getLocationNum() - 1, oph1)\n",
    "    ts.addLocation(pyqreach.Location(5, 0))\n",
    "    ts.addRelation(ts.getLocationNum() - 2, ts.getLocationNum() - 1, oph2)\n",
    "    newMeasList.append(ts.getLocationNum() - 1)\n",
    "\n",
    "\n",
    "op00 = pyqreach.QOperation([\"00000\"])\n",
    "ts.setAnnotation([[0, op00]])\n",
    "ts.computingFixedPointPost()\n",
    "ts.printSupp(gateLength)\n",
    "ts.printSupp(55)\n",
    "visualize_transition_system(ts, 'test_decode')"
   ]
  },
  {
   "cell_type": "code",
   "execution_count": 1,
   "id": "07949247",
   "metadata": {},
   "outputs": [
    {
     "name": "stdout",
     "output_type": "stream",
     "text": [
      "Location 14: upperBound support = \n",
      "Support vectors:\n",
      "Identity operator.\n",
      "Location 14: lowerBound support = \n",
      "Support vectors:\n",
      "(0.35355,0)|00000000> + (0.35355,0)|00111100> + (0.35355,0)|01011010> + (0.35355,0)|01100110> + (0.35355,0)|10010110> + (0.35355,0)|10101010> + (0.35355,0)|11001100> + (0.35355,0)|11110000>\n"
     ]
    }
   ],
   "source": [
    "import pyqreach\n",
    "### Verifiable quantum secret sharing\n",
    "from qiskit import QuantumCircuit, QuantumRegister, ClassicalRegister, transpile\n",
    "from qiskit.quantum_info import Statevector\n",
    "# from qiskit_aer import AerSimulator\n",
    "import numpy as np\n",
    "\n",
    "from parse_qiskit import *\n",
    "\n",
    "circ = QuantumCircuit(7,7)\n",
    "idx0 = list(range(7))\n",
    "prepare_steane_code(circ, idx0)\n",
    "ts = parse_qiskit(circ)\n",
    "op00 = pyqreach.QOperation([\"0000000\"])\n",
    "ts.setAnnotation([[0, op00]])\n",
    "ts.computingFixedPointPost()\n",
    "ts.printSupp(ts.getLocationNum() - 1)"
   ]
  },
  {
   "cell_type": "code",
   "execution_count": null,
   "id": "644564f8",
   "metadata": {},
   "outputs": [],
   "source": []
  }
 ],
 "metadata": {
  "kernelspec": {
   "display_name": "qmc",
   "language": "python",
   "name": "python3"
  },
  "language_info": {
   "codemirror_mode": {
    "name": "ipython",
    "version": 3
   },
   "file_extension": ".py",
   "mimetype": "text/x-python",
   "name": "python",
   "nbconvert_exporter": "python",
   "pygments_lexer": "ipython3",
   "version": "3.10.18"
  }
 },
 "nbformat": 4,
 "nbformat_minor": 5
}
