{
 "cells": [
  {
   "cell_type": "code",
   "execution_count": 1,
   "metadata": {},
   "outputs": [],
   "source": [
    "from gen_benchmark import *\n",
    "from verification import *\n"
   ]
  },
  {
   "cell_type": "code",
   "execution_count": 2,
   "metadata": {},
   "outputs": [],
   "source": [
    "def save_qasm(qasm:str, name:str, path=\"../benchmark/\"):\n",
    "    with open(path+name, 'w') as f:\n",
    "        f.write(qasm)\n",
    "        f.close()"
   ]
  },
  {
   "cell_type": "code",
   "execution_count": 3,
   "metadata": {},
   "outputs": [],
   "source": [
    "cir_name = \"qrw\"\n",
    "iter_start = 2\n",
    "step = 1\n",
    "iter_end = 12\n",
    "\n",
    "# for i in range(iter_start, iter_end, step):\n",
    "#     cir = gen_cir[cir_name](i)\n",
    "#     save_qasm(cir.qasm(), cir_name+\"_\"+str(i)+\".qasm\")"
   ]
  },
  {
   "cell_type": "code",
   "execution_count": 11,
   "metadata": {},
   "outputs": [
    {
     "data": {
      "text/latex": [
       "$$(\\frac{1}{4} - \\frac{\\sqrt{2} i}{4}) |10\\rangle+(\\frac{1}{2} - \\frac{3 i}{4}) |11\\rangle$$"
      ],
      "text/plain": [
       "<IPython.core.display.Latex object>"
      ]
     },
     "execution_count": 11,
     "metadata": {},
     "output_type": "execute_result"
    }
   ],
   "source": [
    "cir = QuantumCircuit.from_qasm_file(\"../benchmark/rus_3.qasm\")\n",
    "state = simulate(0b10, cir)\n",
    "state.draw('latex')\n",
    "# state.draw()"
   ]
  },
  {
   "cell_type": "code",
   "execution_count": 4,
   "metadata": {},
   "outputs": [],
   "source": [
    "from gen_grover import *\n",
    "cir = gen_grover_block(9)\n",
    "# cir.draw(\"mpl\")"
   ]
  },
  {
   "cell_type": "code",
   "execution_count": null,
   "metadata": {},
   "outputs": [],
   "source": []
  }
 ],
 "metadata": {
  "kernelspec": {
   "display_name": "qiskit",
   "language": "python",
   "name": "python3"
  },
  "language_info": {
   "codemirror_mode": {
    "name": "ipython",
    "version": 3
   },
   "file_extension": ".py",
   "mimetype": "text/x-python",
   "name": "python",
   "nbconvert_exporter": "python",
   "pygments_lexer": "ipython3",
   "version": "3.9.16"
  }
 },
 "nbformat": 4,
 "nbformat_minor": 2
}
