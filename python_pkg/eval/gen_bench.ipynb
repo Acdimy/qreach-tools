{
 "cells": [
  {
   "cell_type": "code",
   "execution_count": 1,
   "metadata": {},
   "outputs": [],
   "source": [
    "from gen_benchmark import *\n",
    "from verification import *"
   ]
  },
  {
   "cell_type": "code",
   "execution_count": 2,
   "metadata": {},
   "outputs": [],
   "source": [
    "def save_qasm(qasm:str, name:str, path=\"../benchmark/\"):\n",
    "    with open(path+name, 'w') as f:\n",
    "        f.write(qasm)\n",
    "        f.close()"
   ]
  },
  {
   "cell_type": "code",
   "execution_count": 3,
   "metadata": {},
   "outputs": [],
   "source": [
    "cir_name = \"qrw\"\n",
    "iter_start = 2\n",
    "step = 1\n",
    "iter_end = 12\n",
    "\n",
    "# for i in range(iter_start, iter_end, step):\n",
    "#     cir = gen_cir[cir_name](i)\n",
    "#     save_qasm(cir.qasm(), cir_name+\"_\"+str(i)+\".qasm\")"
   ]
  },
  {
   "cell_type": "code",
   "execution_count": 7,
   "metadata": {},
   "outputs": [
    {
     "data": {
      "text/latex": [
       "$$\\frac{\\sqrt{2}}{2} |011\\rangle- \\frac{\\sqrt{2}}{2} |110\\rangle$$"
      ],
      "text/plain": [
       "<IPython.core.display.Latex object>"
      ]
     },
     "execution_count": 7,
     "metadata": {},
     "output_type": "execute_result"
    }
   ],
   "source": [
    "cir = QuantumCircuit.from_qasm_file(\"../benchmark/qrw_2.qasm\")\n",
    "state = simulate(0b100, cir)\n",
    "state.draw('latex')"
   ]
  },
  {
   "cell_type": "code",
   "execution_count": null,
   "metadata": {},
   "outputs": [],
   "source": []
  }
 ],
 "metadata": {
  "kernelspec": {
   "display_name": "qiskit",
   "language": "python",
   "name": "python3"
  },
  "language_info": {
   "codemirror_mode": {
    "name": "ipython",
    "version": 3
   },
   "file_extension": ".py",
   "mimetype": "text/x-python",
   "name": "python",
   "nbconvert_exporter": "python",
   "pygments_lexer": "ipython3",
   "version": "3.9.16"
  }
 },
 "nbformat": 4,
 "nbformat_minor": 2
}
